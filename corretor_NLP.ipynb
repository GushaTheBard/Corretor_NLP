{
  "nbformat": 4,
  "nbformat_minor": 0,
  "metadata": {
    "colab": {
      "name": "corretor_NLP.ipynb",
      "provenance": [],
      "collapsed_sections": [],
      "toc_visible": true
    },
    "kernelspec": {
      "name": "python3",
      "display_name": "Python 3"
    },
    "language_info": {
      "name": "python"
    }
  },
  "cells": [
    {
      "cell_type": "markdown",
      "source": [
        "## Importando bibliotecas"
      ],
      "metadata": {
        "id": "_7w6JNWtL4j2"
      }
    },
    {
      "cell_type": "code",
      "source": [
        "import nltk"
      ],
      "metadata": {
        "id": "V_HJWL2wL-eO"
      },
      "execution_count": 112,
      "outputs": []
    },
    {
      "cell_type": "code",
      "source": [
        "nltk.download('punkt')"
      ],
      "metadata": {
        "colab": {
          "base_uri": "https://localhost:8080/"
        },
        "id": "WZy_OnUOM6lQ",
        "outputId": "be4dc58c-b2b8-4a1a-ed16-d8457c5e6790"
      },
      "execution_count": 113,
      "outputs": [
        {
          "output_type": "stream",
          "name": "stdout",
          "text": [
            "[nltk_data] Downloading package punkt to /root/nltk_data...\n",
            "[nltk_data]   Package punkt is already up-to-date!\n"
          ]
        },
        {
          "output_type": "execute_result",
          "data": {
            "text/plain": [
              "True"
            ]
          },
          "metadata": {},
          "execution_count": 113
        }
      ]
    },
    {
      "cell_type": "markdown",
      "source": [
        "## Importando o _corpus_ textual"
      ],
      "metadata": {
        "id": "GrDiS9WCJyXq"
      }
    },
    {
      "cell_type": "code",
      "execution_count": 114,
      "metadata": {
        "id": "a4KmCy4tCgkN"
      },
      "outputs": [],
      "source": [
        "with open('artigos.txt', 'r') as f:\n",
        "  artigos = f.read()\n",
        "\n",
        "# por fins didáticos o arquivo já veio tratado para facilitar a implementação do modelo de ML "
      ]
    },
    {
      "cell_type": "markdown",
      "source": [
        "## Conhecendo o _corpus_ textual"
      ],
      "metadata": {
        "id": "M82hzu7vJoI0"
      }
    },
    {
      "cell_type": "markdown",
      "source": [
        "### Utilizando método len()"
      ],
      "metadata": {
        "id": "T7qMNIoWLkw2"
      }
    },
    {
      "cell_type": "code",
      "source": [
        "len(artigos)"
      ],
      "metadata": {
        "colab": {
          "base_uri": "https://localhost:8080/"
        },
        "id": "3kW-Zs-3IKjY",
        "outputId": "24a3a9b1-be41-4b59-d16c-91202de82eae"
      },
      "execution_count": 115,
      "outputs": [
        {
          "output_type": "execute_result",
          "data": {
            "text/plain": [
              "2605046"
            ]
          },
          "metadata": {},
          "execution_count": 115
        }
      ]
    },
    {
      "cell_type": "code",
      "source": [
        "len('Olá')"
      ],
      "metadata": {
        "colab": {
          "base_uri": "https://localhost:8080/"
        },
        "id": "uRSXd5qYJ6Dc",
        "outputId": "c8fd604b-4fa2-43f4-c19f-88ac874f2167"
      },
      "execution_count": 116,
      "outputs": [
        {
          "output_type": "execute_result",
          "data": {
            "text/plain": [
              "3"
            ]
          },
          "metadata": {},
          "execution_count": 116
        }
      ]
    },
    {
      "cell_type": "code",
      "source": [
        "# A função len não serve para identificar a quantidade de palavras pois retorna\n",
        "# a quantidade de caracteres da string."
      ],
      "metadata": {
        "id": "ifZv8HgBJ7kL"
      },
      "execution_count": 117,
      "outputs": []
    },
    {
      "cell_type": "markdown",
      "source": [
        "### Utilizando método split()"
      ],
      "metadata": {
        "id": "2sK7Z5hHLpGy"
      }
    },
    {
      "cell_type": "code",
      "source": [
        "texto_exemplo = 'lorem ipsum, dolor si! amet'\n",
        "tokens = texto_exemplo.split()\n",
        "\n",
        "print(len(tokens))\n",
        "print(tokens)\n",
        "\n",
        "# Usando o split ele irá concaternar as pontuações gerando tokens\n",
        "# por isso também não irá ser a forma adequada de separação"
      ],
      "metadata": {
        "colab": {
          "base_uri": "https://localhost:8080/"
        },
        "id": "rQHVUh6uKL4w",
        "outputId": "72c83684-5d2d-475e-c65d-cdf5d5632bc7"
      },
      "execution_count": 118,
      "outputs": [
        {
          "output_type": "stream",
          "name": "stdout",
          "text": [
            "5\n",
            "['lorem', 'ipsum,', 'dolor', 'si!', 'amet']\n"
          ]
        }
      ]
    },
    {
      "cell_type": "markdown",
      "source": [
        "### Refinando a tokenização"
      ],
      "metadata": {
        "id": "ssmoxj2TLtu9"
      }
    },
    {
      "cell_type": "code",
      "source": [
        "palavras_separadas = nltk.tokenize.word_tokenize(texto_exemplo)\n",
        "print(palavras_separadas)"
      ],
      "metadata": {
        "colab": {
          "base_uri": "https://localhost:8080/"
        },
        "id": "-n087VruKbZ4",
        "outputId": "d8917ed7-edc8-4b67-ae5f-aa8b4d7b6f86"
      },
      "execution_count": 119,
      "outputs": [
        {
          "output_type": "stream",
          "name": "stdout",
          "text": [
            "['lorem', 'ipsum', ',', 'dolor', 'si', '!', 'amet']\n"
          ]
        }
      ]
    },
    {
      "cell_type": "code",
      "source": [
        "len(palavras_separadas)\n",
        "\n",
        "# O método len ainda está retornando a quantidade de pontuações junto com as palavras"
      ],
      "metadata": {
        "colab": {
          "base_uri": "https://localhost:8080/"
        },
        "id": "-PpxTjDpMv26",
        "outputId": "76c76028-cd93-4c7d-c8fe-a44b73186891"
      },
      "execution_count": 120,
      "outputs": [
        {
          "output_type": "execute_result",
          "data": {
            "text/plain": [
              "7"
            ]
          },
          "metadata": {},
          "execution_count": 120
        }
      ]
    },
    {
      "cell_type": "markdown",
      "source": [
        "#### Removendo pontuações da lista de palavras"
      ],
      "metadata": {
        "id": "rLvVlO-ISBzH"
      }
    },
    {
      "cell_type": "code",
      "source": [
        "def separa_palavras(lista_tokens):\n",
        "  lista_palavras = []\n",
        "\n",
        "  for token in lista_tokens:\n",
        "    if token.isalpha():\n",
        "      lista_palavras.append(token)\n",
        "  \n",
        "  return lista_palavras"
      ],
      "metadata": {
        "id": "q5kz_hPHOLRB"
      },
      "execution_count": 121,
      "outputs": []
    },
    {
      "cell_type": "code",
      "source": [
        "separa_palavras(palavras_separadas)"
      ],
      "metadata": {
        "colab": {
          "base_uri": "https://localhost:8080/"
        },
        "id": "rzsnLuiUPL3T",
        "outputId": "7dee9067-8c8f-4537-a7a5-4a84c29787de"
      },
      "execution_count": 122,
      "outputs": [
        {
          "output_type": "execute_result",
          "data": {
            "text/plain": [
              "['lorem', 'ipsum', 'dolor', 'si', 'amet']"
            ]
          },
          "metadata": {},
          "execution_count": 122
        }
      ]
    },
    {
      "cell_type": "code",
      "source": [
        "lista_tokens = nltk.tokenize.word_tokenize(artigos)\n",
        "lista_palavras = separa_palavras(lista_tokens)\n",
        "\n",
        "print('Qnte. palavras: {}'.format(len(lista_palavras)))"
      ],
      "metadata": {
        "colab": {
          "base_uri": "https://localhost:8080/"
        },
        "id": "9ijOUhTzPQTn",
        "outputId": "95d7157f-4518-46ef-9b28-a15fb220caaf"
      },
      "execution_count": 123,
      "outputs": [
        {
          "output_type": "stream",
          "name": "stdout",
          "text": [
            "Qnte. palavras: 393914\n"
          ]
        }
      ]
    },
    {
      "cell_type": "markdown",
      "source": [
        "#### Normalizando lista de palavras\n"
      ],
      "metadata": {
        "id": "B4NXR0fvSIL3"
      }
    },
    {
      "cell_type": "code",
      "source": [
        "def normalizacao(lista_palavras):\n",
        "  lista_normalizada = []\n",
        "  \n",
        "  for palavra in lista_palavras:\n",
        "    lista_normalizada.append(palavra.lower())\n",
        "  \n",
        "  return lista_normalizada"
      ],
      "metadata": {
        "id": "RVydueTiP__J"
      },
      "execution_count": 124,
      "outputs": []
    },
    {
      "cell_type": "code",
      "source": [
        "lista_normalizada = normalizacao(lista_palavras)"
      ],
      "metadata": {
        "id": "nWPzkOgJRos5"
      },
      "execution_count": 125,
      "outputs": []
    },
    {
      "cell_type": "markdown",
      "source": [
        "#### Removendo palavras repetidas"
      ],
      "metadata": {
        "id": "bQlpkS0GSMTE"
      }
    },
    {
      "cell_type": "code",
      "source": [
        "len(set(lista_normalizada))\n",
        "\n",
        "# quantidade de palavras que vão ser aprendidas pelo dicionário,\n",
        "# segundo um artigo da Duolingio, 8000 palavras são mais do que o suficiente para\n",
        "# atingir um nível de fluencia semelhante a de um acadêmico.\n",
        "#\n",
        "# Baseado nisso a quantidade de palavras no nosso artigo é o suficiente para\n",
        "# criarmos um corretor em Português.\n"
      ],
      "metadata": {
        "colab": {
          "base_uri": "https://localhost:8080/"
        },
        "id": "I7LjlCrRRw_h",
        "outputId": "b7d107a0-9555-4f88-a424-deb2749b4dc1"
      },
      "execution_count": 126,
      "outputs": [
        {
          "output_type": "execute_result",
          "data": {
            "text/plain": [
              "17652"
            ]
          },
          "metadata": {},
          "execution_count": 126
        }
      ]
    },
    {
      "cell_type": "markdown",
      "source": [
        "## Criando o corretor"
      ],
      "metadata": {
        "id": "ghFEonAimkkv"
      }
    },
    {
      "cell_type": "markdown",
      "source": [
        "### Inserindo letras"
      ],
      "metadata": {
        "id": "2aylKQ6qmx-0"
      }
    },
    {
      "cell_type": "markdown",
      "source": [
        "#### Fatiando strings"
      ],
      "metadata": {
        "id": "cRhjxzIIo-3p"
      }
    },
    {
      "cell_type": "code",
      "source": [
        "lista = 'lgica'\n",
        "(lista[:1], lista[1:])"
      ],
      "metadata": {
        "colab": {
          "base_uri": "https://localhost:8080/"
        },
        "id": "BMM2AUApqGMJ",
        "outputId": "de5c9a4f-257d-4b0d-be62-b48a3b142043"
      },
      "execution_count": 127,
      "outputs": [
        {
          "output_type": "execute_result",
          "data": {
            "text/plain": [
              "('l', 'gica')"
            ]
          },
          "metadata": {},
          "execution_count": 127
        }
      ]
    },
    {
      "cell_type": "code",
      "source": [
        "def insere_letras(fatias):\n",
        "  novas_palavras = []\n",
        "  letras = 'bcdefghijklmnopqrstuvwxyzàáâãèéêìíîòóôõùúûç'\n",
        "\n",
        "  for E, D in fatias:    \n",
        "    for letra in letras:\n",
        "      novas_palavras.append(E + letra + D)\n",
        "    \n",
        "  return novas_palavras"
      ],
      "metadata": {
        "id": "JilsWbgMR0ui"
      },
      "execution_count": 128,
      "outputs": []
    },
    {
      "cell_type": "markdown",
      "source": [
        "#### Gerando palavras"
      ],
      "metadata": {
        "id": "xYAixbZrtorJ"
      }
    },
    {
      "cell_type": "code",
      "source": [
        "def gerador_palavras(palavra):\n",
        "  fatias = []\n",
        "\n",
        "  for i in range(len(palavra)+1):\n",
        "    fatias.append((palavra[:i], palavra[i:]))\n",
        " \n",
        "  palavras_geradas = insere_letras(fatias) \n",
        "  \n",
        "  return palavras_geradas"
      ],
      "metadata": {
        "id": "uzTUN9YOp2NP"
      },
      "execution_count": 129,
      "outputs": []
    },
    {
      "cell_type": "code",
      "source": [
        "gerador_palavras('lgica')"
      ],
      "metadata": {
        "colab": {
          "base_uri": "https://localhost:8080/"
        },
        "id": "qfkfly8Z1AU2",
        "outputId": "5d9b8ee0-cb50-45dd-9b16-a25562cfa79f"
      },
      "execution_count": 130,
      "outputs": [
        {
          "output_type": "execute_result",
          "data": {
            "text/plain": [
              "['blgica',\n",
              " 'clgica',\n",
              " 'dlgica',\n",
              " 'elgica',\n",
              " 'flgica',\n",
              " 'glgica',\n",
              " 'hlgica',\n",
              " 'ilgica',\n",
              " 'jlgica',\n",
              " 'klgica',\n",
              " 'llgica',\n",
              " 'mlgica',\n",
              " 'nlgica',\n",
              " 'olgica',\n",
              " 'plgica',\n",
              " 'qlgica',\n",
              " 'rlgica',\n",
              " 'slgica',\n",
              " 'tlgica',\n",
              " 'ulgica',\n",
              " 'vlgica',\n",
              " 'wlgica',\n",
              " 'xlgica',\n",
              " 'ylgica',\n",
              " 'zlgica',\n",
              " 'àlgica',\n",
              " 'álgica',\n",
              " 'âlgica',\n",
              " 'ãlgica',\n",
              " 'èlgica',\n",
              " 'élgica',\n",
              " 'êlgica',\n",
              " 'ìlgica',\n",
              " 'ílgica',\n",
              " 'îlgica',\n",
              " 'òlgica',\n",
              " 'ólgica',\n",
              " 'ôlgica',\n",
              " 'õlgica',\n",
              " 'ùlgica',\n",
              " 'úlgica',\n",
              " 'ûlgica',\n",
              " 'çlgica',\n",
              " 'lbgica',\n",
              " 'lcgica',\n",
              " 'ldgica',\n",
              " 'legica',\n",
              " 'lfgica',\n",
              " 'lggica',\n",
              " 'lhgica',\n",
              " 'ligica',\n",
              " 'ljgica',\n",
              " 'lkgica',\n",
              " 'llgica',\n",
              " 'lmgica',\n",
              " 'lngica',\n",
              " 'logica',\n",
              " 'lpgica',\n",
              " 'lqgica',\n",
              " 'lrgica',\n",
              " 'lsgica',\n",
              " 'ltgica',\n",
              " 'lugica',\n",
              " 'lvgica',\n",
              " 'lwgica',\n",
              " 'lxgica',\n",
              " 'lygica',\n",
              " 'lzgica',\n",
              " 'làgica',\n",
              " 'lágica',\n",
              " 'lâgica',\n",
              " 'lãgica',\n",
              " 'lègica',\n",
              " 'légica',\n",
              " 'lêgica',\n",
              " 'lìgica',\n",
              " 'lígica',\n",
              " 'lîgica',\n",
              " 'lògica',\n",
              " 'lógica',\n",
              " 'lôgica',\n",
              " 'lõgica',\n",
              " 'lùgica',\n",
              " 'lúgica',\n",
              " 'lûgica',\n",
              " 'lçgica',\n",
              " 'lgbica',\n",
              " 'lgcica',\n",
              " 'lgdica',\n",
              " 'lgeica',\n",
              " 'lgfica',\n",
              " 'lggica',\n",
              " 'lghica',\n",
              " 'lgiica',\n",
              " 'lgjica',\n",
              " 'lgkica',\n",
              " 'lglica',\n",
              " 'lgmica',\n",
              " 'lgnica',\n",
              " 'lgoica',\n",
              " 'lgpica',\n",
              " 'lgqica',\n",
              " 'lgrica',\n",
              " 'lgsica',\n",
              " 'lgtica',\n",
              " 'lguica',\n",
              " 'lgvica',\n",
              " 'lgwica',\n",
              " 'lgxica',\n",
              " 'lgyica',\n",
              " 'lgzica',\n",
              " 'lgàica',\n",
              " 'lgáica',\n",
              " 'lgâica',\n",
              " 'lgãica',\n",
              " 'lgèica',\n",
              " 'lgéica',\n",
              " 'lgêica',\n",
              " 'lgìica',\n",
              " 'lgíica',\n",
              " 'lgîica',\n",
              " 'lgòica',\n",
              " 'lgóica',\n",
              " 'lgôica',\n",
              " 'lgõica',\n",
              " 'lgùica',\n",
              " 'lgúica',\n",
              " 'lgûica',\n",
              " 'lgçica',\n",
              " 'lgibca',\n",
              " 'lgicca',\n",
              " 'lgidca',\n",
              " 'lgieca',\n",
              " 'lgifca',\n",
              " 'lgigca',\n",
              " 'lgihca',\n",
              " 'lgiica',\n",
              " 'lgijca',\n",
              " 'lgikca',\n",
              " 'lgilca',\n",
              " 'lgimca',\n",
              " 'lginca',\n",
              " 'lgioca',\n",
              " 'lgipca',\n",
              " 'lgiqca',\n",
              " 'lgirca',\n",
              " 'lgisca',\n",
              " 'lgitca',\n",
              " 'lgiuca',\n",
              " 'lgivca',\n",
              " 'lgiwca',\n",
              " 'lgixca',\n",
              " 'lgiyca',\n",
              " 'lgizca',\n",
              " 'lgiàca',\n",
              " 'lgiáca',\n",
              " 'lgiâca',\n",
              " 'lgiãca',\n",
              " 'lgièca',\n",
              " 'lgiéca',\n",
              " 'lgiêca',\n",
              " 'lgiìca',\n",
              " 'lgiíca',\n",
              " 'lgiîca',\n",
              " 'lgiòca',\n",
              " 'lgióca',\n",
              " 'lgiôca',\n",
              " 'lgiõca',\n",
              " 'lgiùca',\n",
              " 'lgiúca',\n",
              " 'lgiûca',\n",
              " 'lgiçca',\n",
              " 'lgicba',\n",
              " 'lgicca',\n",
              " 'lgicda',\n",
              " 'lgicea',\n",
              " 'lgicfa',\n",
              " 'lgicga',\n",
              " 'lgicha',\n",
              " 'lgicia',\n",
              " 'lgicja',\n",
              " 'lgicka',\n",
              " 'lgicla',\n",
              " 'lgicma',\n",
              " 'lgicna',\n",
              " 'lgicoa',\n",
              " 'lgicpa',\n",
              " 'lgicqa',\n",
              " 'lgicra',\n",
              " 'lgicsa',\n",
              " 'lgicta',\n",
              " 'lgicua',\n",
              " 'lgicva',\n",
              " 'lgicwa',\n",
              " 'lgicxa',\n",
              " 'lgicya',\n",
              " 'lgicza',\n",
              " 'lgicàa',\n",
              " 'lgicáa',\n",
              " 'lgicâa',\n",
              " 'lgicãa',\n",
              " 'lgicèa',\n",
              " 'lgicéa',\n",
              " 'lgicêa',\n",
              " 'lgicìa',\n",
              " 'lgicía',\n",
              " 'lgicîa',\n",
              " 'lgicòa',\n",
              " 'lgicóa',\n",
              " 'lgicôa',\n",
              " 'lgicõa',\n",
              " 'lgicùa',\n",
              " 'lgicúa',\n",
              " 'lgicûa',\n",
              " 'lgicça',\n",
              " 'lgicab',\n",
              " 'lgicac',\n",
              " 'lgicad',\n",
              " 'lgicae',\n",
              " 'lgicaf',\n",
              " 'lgicag',\n",
              " 'lgicah',\n",
              " 'lgicai',\n",
              " 'lgicaj',\n",
              " 'lgicak',\n",
              " 'lgical',\n",
              " 'lgicam',\n",
              " 'lgican',\n",
              " 'lgicao',\n",
              " 'lgicap',\n",
              " 'lgicaq',\n",
              " 'lgicar',\n",
              " 'lgicas',\n",
              " 'lgicat',\n",
              " 'lgicau',\n",
              " 'lgicav',\n",
              " 'lgicaw',\n",
              " 'lgicax',\n",
              " 'lgicay',\n",
              " 'lgicaz',\n",
              " 'lgicaà',\n",
              " 'lgicaá',\n",
              " 'lgicaâ',\n",
              " 'lgicaã',\n",
              " 'lgicaè',\n",
              " 'lgicaé',\n",
              " 'lgicaê',\n",
              " 'lgicaì',\n",
              " 'lgicaí',\n",
              " 'lgicaî',\n",
              " 'lgicaò',\n",
              " 'lgicaó',\n",
              " 'lgicaô',\n",
              " 'lgicaõ',\n",
              " 'lgicaù',\n",
              " 'lgicaú',\n",
              " 'lgicaû',\n",
              " 'lgicaç']"
            ]
          },
          "metadata": {},
          "execution_count": 130
        }
      ]
    },
    {
      "cell_type": "markdown",
      "source": [
        "### Construindo o corretor"
      ],
      "metadata": {
        "id": "gRWRpNdAtt30"
      }
    },
    {
      "cell_type": "code",
      "source": [
        "# cria uma lista com plavras de maior frequencia dentro da nossa lista de palavras normalizadas\n",
        "frequencia = nltk.FreqDist(lista_normalizada)\n",
        "total_palavras = len(lista_normalizada)\n",
        "\n",
        "frequencia.most_common(10)"
      ],
      "metadata": {
        "colab": {
          "base_uri": "https://localhost:8080/"
        },
        "id": "msU9MOx4w7ju",
        "outputId": "54000346-e587-4ad4-8280-8c60e0635be6"
      },
      "execution_count": 131,
      "outputs": [
        {
          "output_type": "execute_result",
          "data": {
            "text/plain": [
              "[('de', 15494),\n",
              " ('o', 13966),\n",
              " ('que', 12225),\n",
              " ('a', 11034),\n",
              " ('e', 10478),\n",
              " ('para', 7694),\n",
              " ('um', 6346),\n",
              " ('é', 5881),\n",
              " ('uma', 5202),\n",
              " ('do', 5116)]"
            ]
          },
          "metadata": {},
          "execution_count": 131
        }
      ]
    },
    {
      "cell_type": "code",
      "source": [
        "def probabilidade(palavra_gerada):\n",
        "  return frequencia[palavra_gerada]/total_palavras"
      ],
      "metadata": {
        "id": "C46LMCxXvtfL"
      },
      "execution_count": 136,
      "outputs": []
    },
    {
      "cell_type": "code",
      "source": [
        "#calculando a maior probabilidade de uma palavra podemos inferir qual a\n",
        "#palavra correta com base na ocorrencia da palavra no dicionário de aprendizado\n",
        "\n",
        "def corretor(palavra):\n",
        "  palavras_geradas = gerador_palavras(palavra)\n",
        "  palavra_correta = max(palavras_geradas, key = probabilidade)\n",
        "\n",
        "  return palavra_correta"
      ],
      "metadata": {
        "id": "573k14AAtKQa"
      },
      "execution_count": 137,
      "outputs": []
    },
    {
      "cell_type": "code",
      "source": [
        "palavra_exemplo = 'lgica'\n",
        "corretor(palavra_exemplo)"
      ],
      "metadata": {
        "colab": {
          "base_uri": "https://localhost:8080/",
          "height": 35
        },
        "id": "R22Tp0HHx0ZP",
        "outputId": "2ab43028-b9f3-4c94-a1d2-a07cd69b3522"
      },
      "execution_count": 138,
      "outputs": [
        {
          "output_type": "execute_result",
          "data": {
            "application/vnd.google.colaboratory.intrinsic+json": {
              "type": "string"
            },
            "text/plain": [
              "'lógica'"
            ]
          },
          "metadata": {},
          "execution_count": 138
        }
      ]
    },
    {
      "cell_type": "markdown",
      "source": [
        "#### Testando corretor"
      ],
      "metadata": {
        "id": "iEYhiB_I3JRg"
      }
    },
    {
      "cell_type": "code",
      "source": [
        "def cria_dados_teste(nome_arquivo):\n",
        "  lista_palavras_teste = []\n",
        "  f = open(nome_arquivo, 'r')\n",
        "  for linha in f:\n",
        "    correto, errado = linha.split()\n",
        "    lista_palavras_teste.append((correto, errado))\n",
        "\n",
        "  f.close()  \n",
        "  return lista_palavras_teste"
      ],
      "metadata": {
        "id": "sOcYAyzr3zs8"
      },
      "execution_count": 141,
      "outputs": []
    },
    {
      "cell_type": "code",
      "source": [
        "def avaliador(testes):\n",
        "\n",
        "  acertos = 0\n",
        "\n",
        "  for correta, errada in testes:\n",
        "    if(corretor(errada) == correta):\n",
        "      acertos += 1\n",
        "\n",
        "  numero_palavras = len(testes)\n",
        "  taxa_acerto = round(acertos*100/numero_palavras, 2)\n",
        "  print(f'Total de palavras testadas: {numero_palavras}')\n",
        "  print(f'Taxa de acerto: {taxa_acerto}%')"
      ],
      "metadata": {
        "id": "ImbCgYwf3I_Q"
      },
      "execution_count": 155,
      "outputs": []
    },
    {
      "cell_type": "code",
      "source": [
        "lista_teste = cria_dados_teste('palavras.txt')\n",
        "lista_teste"
      ],
      "metadata": {
        "id": "n2Z4KuSGx2hY"
      },
      "execution_count": null,
      "outputs": []
    },
    {
      "cell_type": "code",
      "source": [
        "avaliador(lista_teste)\n",
        "\n",
        "## Adicionando outros casos de correção esperamos melhorar a taxa de acerto"
      ],
      "metadata": {
        "colab": {
          "base_uri": "https://localhost:8080/"
        },
        "id": "DKOhdPVx5HiI",
        "outputId": "a7ebf410-4090-456e-e23f-2daec6c7933d"
      },
      "execution_count": 156,
      "outputs": [
        {
          "output_type": "stream",
          "name": "stdout",
          "text": [
            "Total de palavras testadas: 186\n",
            "Taxa de acerto: 1.08%\n"
          ]
        }
      ]
    },
    {
      "cell_type": "markdown",
      "source": [
        "### Melhorando o corretor - Deletando caracteres"
      ],
      "metadata": {
        "id": "edzJ99rm7aPG"
      }
    },
    {
      "cell_type": "code",
      "source": [
        "def delete_char(fatias):\n",
        "  novas_palavras = []\n",
        "  for E, D in fatias:\n",
        "    novas_palavras.append(E + D[1:])\n",
        "  \n",
        "  return novas_palavras"
      ],
      "metadata": {
        "id": "6pU2YgEN6Q0h"
      },
      "execution_count": 165,
      "outputs": []
    },
    {
      "cell_type": "code",
      "source": [
        "# redefinindo função para atualização de eficiência\n",
        "\n",
        "def gerador_palavras(palavra):\n",
        "  fatias = []\n",
        "\n",
        "  for i in range(len(palavra)+1):\n",
        "    fatias.append((palavra[:i], palavra[i:]))\n",
        " \n",
        "  palavras_geradas = insere_letras(fatias) \n",
        "  palavras_geradas += delete_char(fatias)\n",
        "\n",
        "  return palavras_geradas\n",
        "\n",
        "def corretor(palavra):\n",
        "  palavras_geradas = gerador_palavras_2(palavra)\n",
        "  palavra_correta = max(palavras_geradas, key = probabilidade)\n",
        "\n",
        "  return palavra_correta"
      ],
      "metadata": {
        "id": "uPAmTpCW8fOW"
      },
      "execution_count": 166,
      "outputs": []
    },
    {
      "cell_type": "code",
      "source": [
        "corretor('lóigica')"
      ],
      "metadata": {
        "colab": {
          "base_uri": "https://localhost:8080/",
          "height": 35
        },
        "id": "ThUADKyL9S_J",
        "outputId": "370c3bc8-f0bf-4b04-ef6f-25bf0310b5c5"
      },
      "execution_count": 163,
      "outputs": [
        {
          "output_type": "execute_result",
          "data": {
            "application/vnd.google.colaboratory.intrinsic+json": {
              "type": "string"
            },
            "text/plain": [
              "'lógica'"
            ]
          },
          "metadata": {},
          "execution_count": 163
        }
      ]
    },
    {
      "cell_type": "markdown",
      "source": [
        "#### Testando corretor"
      ],
      "metadata": {
        "id": "CY1vh9mR9oY8"
      }
    },
    {
      "cell_type": "code",
      "source": [
        "avaliador(lista_teste)"
      ],
      "metadata": {
        "colab": {
          "base_uri": "https://localhost:8080/"
        },
        "id": "0QWrpmU49bzF",
        "outputId": "d91dfa1c-e968-40a6-e3b3-3c170ec03a50"
      },
      "execution_count": 167,
      "outputs": [
        {
          "output_type": "stream",
          "name": "stdout",
          "text": [
            "Total de palavras testadas: 186\n",
            "Taxa de acerto: 41.4%\n"
          ]
        }
      ]
    },
    {
      "cell_type": "markdown",
      "source": [
        "### Melhorando o corretor - Trocando caracateres"
      ],
      "metadata": {
        "id": "2kRW90BY_NK-"
      }
    },
    {
      "cell_type": "code",
      "source": [
        "def troca_letra(fatias):\n",
        "  novas_palavras = []\n",
        "  letras = 'abcdefghijklmnopqrstuvwxyzáàãâéèêíìóòõôúùûç'\n",
        "\n",
        "  for E, D in fatias:\n",
        "    for letra in letras:\n",
        "      novas_palavras.append(E + letra + D[1:])\n",
        "  \n",
        "  return novas_palavras"
      ],
      "metadata": {
        "id": "Qolho1lS91Fc"
      },
      "execution_count": 168,
      "outputs": []
    },
    {
      "cell_type": "code",
      "source": [
        "# redefinindo função para atualização de eficiência\n",
        "\n",
        "def gerador_palavras(palavra):\n",
        "  fatias = []\n",
        "\n",
        "  for i in range(len(palavra)+1):\n",
        "    fatias.append((palavra[:i], palavra[i:]))\n",
        " \n",
        "  palavras_geradas = insere_letras(fatias) \n",
        "  palavras_geradas += delete_char(fatias)\n",
        "  palavras_geradas += troca_letra(fatias)\n",
        "\n",
        "  return palavras_geradas\n",
        "\n",
        "def corretor(palavra):\n",
        "  palavras_geradas = gerador_palavras(palavra)\n",
        "  palavra_correta = max(palavras_geradas, key = probabilidade)\n",
        "\n",
        "  return palavra_correta"
      ],
      "metadata": {
        "id": "QCt1iOGT_AXA"
      },
      "execution_count": 172,
      "outputs": []
    },
    {
      "cell_type": "markdown",
      "source": [
        "#### Testando corretor"
      ],
      "metadata": {
        "id": "QWalwoZA_UdJ"
      }
    },
    {
      "cell_type": "code",
      "source": [
        "avaliador(lista_teste)"
      ],
      "metadata": {
        "colab": {
          "base_uri": "https://localhost:8080/"
        },
        "id": "3SBbODId_T4K",
        "outputId": "966fcecc-ebb0-41c7-879f-7ecfbf07da5f"
      },
      "execution_count": 173,
      "outputs": [
        {
          "output_type": "stream",
          "name": "stdout",
          "text": [
            "Total de palavras testadas: 186\n",
            "Taxa de acerto: 76.34%\n"
          ]
        }
      ]
    },
    {
      "cell_type": "markdown",
      "source": [
        "### Melhorando o corretor - Inversão de letras"
      ],
      "metadata": {
        "id": "LqlxK7dq__LZ"
      }
    },
    {
      "cell_type": "code",
      "source": [
        "def inversao(fatias):\n",
        "  novas_palavras = []\n",
        "\n",
        "  for E, D in fatias:\n",
        "    if len(D) > 1:\n",
        "      novas_palavras.append(E + D[1] + D[0] + D[2:])\n",
        "  \n",
        "  return novas_palavras"
      ],
      "metadata": {
        "id": "tgxwe4N3_KT2"
      },
      "execution_count": 179,
      "outputs": []
    },
    {
      "cell_type": "code",
      "source": [
        "# redefinindo função para atualização de eficiência\n",
        "\n",
        "def gerador_palavras(palavra):\n",
        "  fatias = []\n",
        "\n",
        "  for i in range(len(palavra)+1):\n",
        "    fatias.append((palavra[:i], palavra[i:]))\n",
        " \n",
        "  palavras_geradas = insere_letras(fatias) \n",
        "  palavras_geradas += delete_char(fatias)\n",
        "  palavras_geradas += troca_letra(fatias)\n",
        "  palavras_geradas += inversao(fatias)\n",
        "\n",
        "  return palavras_geradas"
      ],
      "metadata": {
        "id": "ICfiidMzAyfw"
      },
      "execution_count": 180,
      "outputs": []
    },
    {
      "cell_type": "code",
      "source": [
        "corretor('lgóica')"
      ],
      "metadata": {
        "colab": {
          "base_uri": "https://localhost:8080/",
          "height": 35
        },
        "id": "Qrc9l7MuBdAP",
        "outputId": "84a7a7c1-183a-4848-8291-35e0ebbd9478"
      },
      "execution_count": 182,
      "outputs": [
        {
          "output_type": "execute_result",
          "data": {
            "application/vnd.google.colaboratory.intrinsic+json": {
              "type": "string"
            },
            "text/plain": [
              "'lógica'"
            ]
          },
          "metadata": {},
          "execution_count": 182
        }
      ]
    },
    {
      "cell_type": "markdown",
      "source": [
        "#### Testando corretor"
      ],
      "metadata": {
        "id": "10PktngBBySF"
      }
    },
    {
      "cell_type": "code",
      "source": [
        "avaliador(lista_teste)"
      ],
      "metadata": {
        "colab": {
          "base_uri": "https://localhost:8080/"
        },
        "id": "SXN9qqBbA_FC",
        "outputId": "cc152469-5ce4-4be6-90e7-c0b9f53d3677"
      },
      "execution_count": 181,
      "outputs": [
        {
          "output_type": "stream",
          "name": "stdout",
          "text": [
            "Total de palavras testadas: 186\n",
            "Taxa de acerto: 76.34%\n"
          ]
        }
      ]
    },
    {
      "cell_type": "markdown",
      "source": [
        "### Palavras desconhecidas"
      ],
      "metadata": {
        "id": "6--nIIuWB2SM"
      }
    },
    {
      "cell_type": "code",
      "source": [
        "def avaliador(testes, vocabulario):\n",
        "\n",
        "  acertos = 0\n",
        "  desconhecido = 0\n",
        "\n",
        "  for correta, errada in testes:\n",
        "    if(corretor(errada) == correta):\n",
        "      acertos += 1\n",
        "    \n",
        "    else:\n",
        "        desconhecido += (correta not in vocabulario)\n",
        "    \n",
        "\n",
        "  numero_palavras = len(testes)\n",
        "  taxa_acerto = round(acertos*100/numero_palavras, 2)\n",
        "  taxa_desconhecido = round(desconhecido*100/numero_palavras, 2)\n",
        "  print(f'Total de palavras testadas: {numero_palavras}')\n",
        "  print(f'Taxa de acerto: {taxa_acerto}%')\n",
        "  print(f'Taxa de palavras desconhecidas: {taxa_desconhecido}%')"
      ],
      "metadata": {
        "id": "hFqJa-aBBByn"
      },
      "execution_count": 183,
      "outputs": []
    },
    {
      "cell_type": "code",
      "source": [
        "vocabulario = set(lista_normalizada)\n",
        "avaliador(lista_teste, vocabulario)"
      ],
      "metadata": {
        "colab": {
          "base_uri": "https://localhost:8080/"
        },
        "id": "JU8HdgYuDFSD",
        "outputId": "f6afd189-ea34-4995-e1b5-1e74381cba32"
      },
      "execution_count": 184,
      "outputs": [
        {
          "output_type": "stream",
          "name": "stdout",
          "text": [
            "Total de palavras testadas: 186\n",
            "Taxa de acerto: 76.34%\n",
            "Taxa de palavras desconhecidas: 6.99%\n"
          ]
        }
      ]
    },
    {
      "cell_type": "markdown",
      "source": [
        "#### Melhorando o gerador de palavras"
      ],
      "metadata": {
        "id": "CE38Zw3gFM7X"
      }
    },
    {
      "cell_type": "code",
      "source": [
        "def gerador_palavras_2(palavras_geradas):\n",
        "  novas_palavras = []\n",
        "\n",
        "  for palavra in palavras_geradas:\n",
        "    novas_palavras += gerador_palavras(palavra)\n",
        "\n",
        "  return novas_palavras\n",
        "\n",
        "def corretor_2(palavra):\n",
        "  palavras_geradas = gerador_palavras_2(gerador_palavras(palavra))\n",
        "  palavra_correta = max(palavras_geradas, key = probabilidade)\n",
        "\n",
        "  return palavra_correta"
      ],
      "metadata": {
        "id": "Uzr1M54BDPdr"
      },
      "execution_count": 186,
      "outputs": []
    },
    {
      "cell_type": "code",
      "source": [
        "corretor_2('lógicia')"
      ],
      "metadata": {
        "colab": {
          "base_uri": "https://localhost:8080/",
          "height": 35
        },
        "id": "5SgscCrtEdhS",
        "outputId": "1ebf73f2-0159-4bb7-b358-04040b29d49c"
      },
      "execution_count": 188,
      "outputs": [
        {
          "output_type": "execute_result",
          "data": {
            "application/vnd.google.colaboratory.intrinsic+json": {
              "type": "string"
            },
            "text/plain": [
              "'lógica'"
            ]
          },
          "metadata": {},
          "execution_count": 188
        }
      ]
    },
    {
      "cell_type": "markdown",
      "source": [
        "#### Otimizando corretor - Escolhendo os melhores candidatos a palavras"
      ],
      "metadata": {
        "id": "ca_bY2nrFRdL"
      }
    },
    {
      "cell_type": "code",
      "source": [
        "# Melhorando função corretor\n",
        "\n",
        "def corretor_2(palavra):\n",
        "  palavras_geradas = gerador_palavras_2(gerador_palavras(palavra))\n",
        "  candidatos = [palavra]\n",
        "\n",
        "  for p in palavras_geradas:\n",
        "    if p in vocabulario:\n",
        "      candidatos.append(p)\n",
        "  \n",
        "  palavra_correta = max(candidatos, key = probabilidade)\n",
        "\n",
        "  return palavra_correta"
      ],
      "metadata": {
        "id": "pVaoNusKE0Og"
      },
      "execution_count": 189,
      "outputs": []
    },
    {
      "cell_type": "code",
      "source": [
        "corretor_2('logiac')"
      ],
      "metadata": {
        "colab": {
          "base_uri": "https://localhost:8080/",
          "height": 35
        },
        "id": "TDboPdOHGecO",
        "outputId": "86c097ac-5932-47ba-d10c-8773f3905f6a"
      },
      "execution_count": 194,
      "outputs": [
        {
          "output_type": "execute_result",
          "data": {
            "application/vnd.google.colaboratory.intrinsic+json": {
              "type": "string"
            },
            "text/plain": [
              "'lógica'"
            ]
          },
          "metadata": {},
          "execution_count": 194
        }
      ]
    },
    {
      "cell_type": "markdown",
      "source": [
        "## Avaliando corretores"
      ],
      "metadata": {
        "id": "VcIEgq4rHO3P"
      }
    },
    {
      "cell_type": "code",
      "source": [
        "def avaliador(testes, vocabulario):\n",
        "\n",
        "  acertos = 0\n",
        "  desconhecido = 0\n",
        "\n",
        "  for correta, errada in testes:\n",
        "    desconhecido += (correta not in vocabulario)\n",
        "\n",
        "    if(corretor(errada) == correta):\n",
        "      acertos += 1\n",
        "\n",
        "  numero_palavras = len(testes)\n",
        "  taxa_acerto = round(acertos*100/numero_palavras, 2)\n",
        "  taxa_desconhecido = round(desconhecido*100/numero_palavras, 2)\n",
        "  print(f'Total de palavras testadas: {numero_palavras}')\n",
        "  print(f'Taxa de acerto: {taxa_acerto}%')\n",
        "  print(f'Taxa de palavras desconhecidas: {taxa_desconhecido}%')"
      ],
      "metadata": {
        "id": "7tT9fVfjGhqV"
      },
      "execution_count": 207,
      "outputs": []
    },
    {
      "cell_type": "code",
      "source": [
        "avaliador(lista_teste, lista_normalizada)"
      ],
      "metadata": {
        "colab": {
          "base_uri": "https://localhost:8080/"
        },
        "id": "--B33XzwHUAy",
        "outputId": "faabd3ec-302a-4976-ed99-cb0b030a7eba"
      },
      "execution_count": 208,
      "outputs": [
        {
          "output_type": "stream",
          "name": "stdout",
          "text": [
            "Total de palavras testadas: 186\n",
            "Taxa de acerto: 76.34%\n",
            "Taxa de palavras desconhecidas: 6.99%\n"
          ]
        }
      ]
    },
    {
      "cell_type": "code",
      "source": [
        "def avaliador_2(testes, vocabulario):\n",
        "\n",
        "  acertos = 0\n",
        "  desconhecido = 0\n",
        "\n",
        "  for correta, errada in testes:\n",
        "    desconhecido += (correta not in vocabulario)\n",
        "\n",
        "    if(corretor_2(errada) == correta):\n",
        "      acertos += 1\n",
        "\n",
        "  numero_palavras = len(testes)\n",
        "  taxa_acerto = round(acertos*100/numero_palavras, 2)\n",
        "  taxa_desconhecido = round(desconhecido*100/numero_palavras, 2)\n",
        "  print(f'Total de palavras testadas: {numero_palavras}')\n",
        "  print(f'Taxa de acerto: {taxa_acerto}%')\n",
        "  print(f'Taxa de palavras desconhecidas: {taxa_desconhecido}%')"
      ],
      "metadata": {
        "id": "vfv9-3mOHdA2"
      },
      "execution_count": 209,
      "outputs": []
    },
    {
      "cell_type": "code",
      "source": [
        "avaliador_2(lista_teste, vocabulario)"
      ],
      "metadata": {
        "colab": {
          "base_uri": "https://localhost:8080/"
        },
        "id": "4NTPywbeKGWv",
        "outputId": "4e13f205-da09-43e7-9e10-daed9feb05c1"
      },
      "execution_count": 210,
      "outputs": [
        {
          "output_type": "stream",
          "name": "stdout",
          "text": [
            "Total de palavras testadas: 186\n",
            "Taxa de acerto: 55.91%\n",
            "Taxa de palavras desconhecidas: 6.99%\n"
          ]
        }
      ]
    },
    {
      "cell_type": "code",
      "source": [
        ""
      ],
      "metadata": {
        "id": "f7kb_z_mKKVJ"
      },
      "execution_count": null,
      "outputs": []
    }
  ]
}